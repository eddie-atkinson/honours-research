{
 "cells": [
  {
   "cell_type": "code",
   "execution_count": 1,
   "id": "c5916391",
   "metadata": {},
   "outputs": [],
   "source": [
    "import pandas as pd\n",
    "import numpy as np\n",
    "from pathlib import Path"
   ]
  },
  {
   "cell_type": "markdown",
   "id": "e4bf9adb",
   "metadata": {},
   "source": [
    "## Purpose\n",
    "\n",
    "The purpose of this notebook is to process the load data published as part of the Australian Government's *Smart City, Smart Grid* programme run in the city of Newcastle in NSW. This dataset is quite large and so the load profiles will be processed into an average daily profile.\n",
    "\n",
    "The original data can be found [here](http://datagovau.s3-ap-southeast-2.amazonaws.com/CDINTERVALREADINGALLNOQUOTES.csv.7z)\n"
   ]
  },
  {
   "cell_type": "code",
   "execution_count": 5,
   "id": "3de353d7",
   "metadata": {},
   "outputs": [],
   "source": [
    "file_name = \"CD_INTERVAL_READING_ALL_NO_QUOTES.csv\"\n",
    "data_path = Path(f\"./in/{file_name}\")\n",
    "out_path = Path(\"./out\")\n",
    "out_path.mkdir(exist_ok=True, parents=True)\n",
    "\n",
    "df = pd.read_csv(\n",
    "    data_path.resolve(),\n",
    "    parse_dates=[\"READING_DATETIME\"],\n",
    "#     usecols=[\n",
    "#         \"GENERAL_SUPPLY_KWH\",\n",
    "#         \"GROSS_GENERATION_KWH\",\n",
    "#         \"CUSTOMERID\",\n",
    "#         \"READING_DATETIME\",\n",
    "#     ],\n",
    "    dtype={\n",
    "        \"GENERAL_SUPPLY_KWH\": \"float\",\n",
    "        \"GROSS_GENERATION_KWH\": \"float\",\n",
    "        \"CUSTOMERID\": \"float\",\n",
    "    },\n",
    "    engine=\"c\"\n",
    ")"
   ]
  },
  {
   "cell_type": "code",
   "execution_count": 6,
   "id": "a544042a",
   "metadata": {},
   "outputs": [
    {
     "data": {
      "text/plain": [
       "CUSTOMER_ID                       int64\n",
       "READING_DATETIME         datetime64[ns]\n",
       " CALENDAR_KEY                     int64\n",
       " EVENT_KEY                        int64\n",
       " GENERAL_SUPPLY_KWH             float64\n",
       " CONTROLLED_LOAD_KWH            float64\n",
       " GROSS_GENERATION_KWH           float64\n",
       " NET_GENERATION_KWH             float64\n",
       " OTHER_KWH                        int64\n",
       "dtype: object"
      ]
     },
     "execution_count": 6,
     "metadata": {},
     "output_type": "execute_result"
    }
   ],
   "source": [
    "df.dtypes"
   ]
  },
  {
   "cell_type": "code",
   "execution_count": 7,
   "id": "d293ea70",
   "metadata": {},
   "outputs": [],
   "source": [
    "def aggregate_by_hour(df):\n",
    "    time = df[\"READING_DATETIME\"].dt.time\n",
    "    df[\"time\"] = time\n",
    "    by_time = df.groupby(df[\"time\"]).mean()\n",
    "    return by_time\n",
    "\n",
    "res = df.groupby(\"CUSTOMER_ID\").apply(lambda x: aggregate_by_hour(x))\n",
    "res.to_csv((out_path / \"aggregated.csv\").resolve())\n"
   ]
  }
 ],
 "metadata": {
  "kernelspec": {
   "display_name": "Python 3 (ipykernel)",
   "language": "python",
   "name": "python3"
  },
  "language_info": {
   "codemirror_mode": {
    "name": "ipython",
    "version": 3
   },
   "file_extension": ".py",
   "mimetype": "text/x-python",
   "name": "python",
   "nbconvert_exporter": "python",
   "pygments_lexer": "ipython3",
   "version": "3.9.7"
  }
 },
 "nbformat": 4,
 "nbformat_minor": 5
}
