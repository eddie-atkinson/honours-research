{
 "cells": [
  {
   "cell_type": "code",
   "execution_count": null,
   "id": "6f892f0b",
   "metadata": {},
   "outputs": [],
   "source": [
    "import pandas as pd\n",
    "import numpy as np\n",
    "from pathlib import Path"
   ]
  },
  {
   "cell_type": "markdown",
   "id": "197f732b",
   "metadata": {},
   "source": [
    "## Purpose\n",
    "\n",
    "The purpose of this notebook is to process the load data published as part of the Australian Government's *Smart City, Smart Grid* programme run in the city of Newcastle in NSW. This dataset is quite large and so the load profiles will be processed into an average daily profile using a distributed Dask cluster.\n",
    "\n",
    "The original data can be found [here](http://datagovau.s3-ap-southeast-2.amazonaws.com/CDINTERVALREADINGALLNOQUOTES.csv.7z)\n"
   ]
  },
  {
   "cell_type": "code",
   "execution_count": null,
   "id": "10e79135",
   "metadata": {},
   "outputs": [],
   "source": [
    "file_name = \"CD_INTERVAL_READING_ALL_NO_QUOTES.csv\"\n",
    "data_path = Path(f\"./in/{file_name}\")\n",
    "out_path = Path(\"./out/aggregated.csv\")\n",
    "df = pd.read_csv(\n",
    "    data_path.resolve(),\n",
    "    parse_dates=[\"READING_DATETIME\"],\n",
    ")"
   ]
  },
  {
   "cell_type": "code",
   "execution_count": null,
   "id": "4fa91205",
   "metadata": {},
   "outputs": [],
   "source": [
    "def aggregate_by_hour(df):\n",
    "    df[\"READING_DATETIME\"] = pd.to_datetime(df[\"READING_DATETIME\"])\n",
    "    time = df[\"READING_DATETIME\"].dt.time\n",
    "    df[\"time\"] = time\n",
    "    by_time = df.groupby(df[\"time\"]).mean()\n",
    "    return by_time\n",
    "\n",
    "res = df.groupby(\"CUSTOMER_ID\").apply(lambda x: aggregate_by_hour(x)).compute()\n",
    "res.to_csv(out_path.resolve())\n"
   ]
  }
 ],
 "metadata": {
  "kernelspec": {
   "display_name": "Python 3 (ipykernel)",
   "language": "python",
   "name": "python3"
  },
  "language_info": {
   "codemirror_mode": {
    "name": "ipython",
    "version": 3
   },
   "file_extension": ".py",
   "mimetype": "text/x-python",
   "name": "python",
   "nbconvert_exporter": "python",
   "pygments_lexer": "ipython3",
   "version": "3.9.7"
  }
 },
 "nbformat": 4,
 "nbformat_minor": 5
}
