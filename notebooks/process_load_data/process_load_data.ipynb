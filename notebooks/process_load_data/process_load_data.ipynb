{
 "cells": [
  {
   "cell_type": "code",
   "execution_count": 5,
   "id": "bd02fc70",
   "metadata": {},
   "outputs": [],
   "source": [
    "import pandas as pd\n",
    "import numpy as np\n",
    "from pathlib import Path"
   ]
  },
  {
   "cell_type": "markdown",
   "id": "d8a10ee5",
   "metadata": {},
   "source": [
    "## Purpose\n",
    "\n",
    "The purpose of this notebook is to process the load data published as part of the Australian Government's *Smart City, Smart Grid* programme run in the city of Newcastle in NSW. This dataset is quite large and so the load profiles will be processed into an average daily profile.\n",
    "\n",
    "The original data can be found [here](http://datagovau.s3-ap-southeast-2.amazonaws.com/CDINTERVALREADINGALLNOQUOTES.csv.7z)\n"
   ]
  },
  {
   "cell_type": "code",
   "execution_count": 12,
   "id": "2c30514d",
   "metadata": {},
   "outputs": [],
   "source": [
    "file_name = \"CD_INTERVAL_READING_ALL_NO_QUOTES.csv\"\n",
    "data_path = Path(f\"./in/{file_name}\")\n",
    "out_path = Path(\"./out\")\n",
    "out_path.mkdir(exist_ok=True, parents=True)\n",
    "\n",
    "df = pd.read_csv(\n",
    "    data_path.resolve(),\n",
    "    parse_dates=[\"READING_DATETIME\"],\n",
    ")"
   ]
  },
  {
   "cell_type": "code",
   "execution_count": 14,
   "id": "1a1c1e31",
   "metadata": {},
   "outputs": [],
   "source": [
    "def aggregate_by_hour(df):\n",
    "    time = df[\"READING_DATETIME\"].dt.time\n",
    "    df[\"time\"] = time\n",
    "    by_time = df.groupby(df[\"time\"]).mean()\n",
    "    return by_time\n",
    "\n",
    "res = df.groupby(\"CUSTOMER_ID\").apply(lambda x: aggregate_by_hour(x))\n",
    "res.to_csv((out_path / \"aggregated.csv\").resolve())\n"
   ]
  }
 ],
 "metadata": {
  "kernelspec": {
   "display_name": "Python 3 (ipykernel)",
   "language": "python",
   "name": "python3"
  },
  "language_info": {
   "codemirror_mode": {
    "name": "ipython",
    "version": 3
   },
   "file_extension": ".py",
   "mimetype": "text/x-python",
   "name": "python",
   "nbconvert_exporter": "python",
   "pygments_lexer": "ipython3",
   "version": "3.9.7"
  }
 },
 "nbformat": 4,
 "nbformat_minor": 5
}
