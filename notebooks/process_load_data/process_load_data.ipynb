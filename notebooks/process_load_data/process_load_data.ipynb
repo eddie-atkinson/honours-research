{
 "cells": [
  {
   "cell_type": "code",
   "execution_count": 1,
   "id": "05d954f3",
   "metadata": {},
   "outputs": [],
   "source": [
    "import pandas as pd\n",
    "import numpy as np\n",
    "from pathlib import Path\n",
    "from random import seed, randrange"
   ]
  },
  {
   "cell_type": "markdown",
   "id": "152e2a67",
   "metadata": {},
   "source": [
    "## Purpose\n",
    "\n",
    "The purpose of this notebook is to process the load data published as part of the Australian Government's *Smart City, Smart Grid* programme run in the city of Newcastle in NSW.\n",
    "\n",
    "For the purposes of performing power flow analysis on a test network we need to create an average daily profile. As the *Smart Grid Smart City* programme aimed to alter the consumption behaviour of trial participants by offering them various products, we will only use the load profiles of households in the control group. \n",
    "\n",
    "The descriptions of net and gross generation are unclear for this dataset. One would assume that gross generation would always be greater than net, however this is untrue at times for this data. Consequently, it is difficult to derive the total consumption of a household with solar installed. Thus, households in the control group will also be excluded from this analysis.   \n",
    "\n",
    "The original data can be found [here](http://datagovau.s3-ap-southeast-2.amazonaws.com/CDINTERVALREADINGALLNOQUOTES.csv.7z)\n",
    "\n",
    "The customer metadata can be found [here](https://data.gov.au/dataset/ds-dga-4e21dea3-9b87-4610-94c7-15a8a77907ef/distribution/dist-dga-0404c872-8a83-40e6-9c04-88dfec125aee/details?q=)\n",
    "\n",
    "The dataset column descriptions can be found [here](https://data.gov.au/dataset/ds-dga-4e21dea3-9b87-4610-94c7-15a8a77907ef/distribution/dist-dga-52e630d3-725c-4854-81bf-5d3a4f3c0385/details?q=)\n"
   ]
  },
  {
   "cell_type": "code",
   "execution_count": 2,
   "id": "e71bb69b",
   "metadata": {},
   "outputs": [],
   "source": [
    "data_file_name = \"CD_INTERVAL_READING_ALL_NO_QUOTES.csv\"\n",
    "metadata_file_name = \"sgsc-ct_customer-household-data-revised.csv\"\n",
    "data_dir = Path(\"./in\")\n",
    "data_path = data_dir / data_file_name\n",
    "metadata_path = data_dir / metadata_file_name\n",
    "\n",
    "out_path = Path(\"./out\")\n",
    "out_path.mkdir(exist_ok=True, parents=True)"
   ]
  },
  {
   "cell_type": "markdown",
   "id": "925166a8",
   "metadata": {},
   "source": [
    "## Find all the customer IDs of customers in the control group"
   ]
  },
  {
   "cell_type": "code",
   "execution_count": 3,
   "id": "28a1e9cd",
   "metadata": {},
   "outputs": [
    {
     "name": "stdout",
     "output_type": "stream",
     "text": [
      "Number of customers in control group: 2093\n",
      "Number of customers in control group with solar: 25\n"
     ]
    }
   ],
   "source": [
    "metadata_df = pd.read_csv(metadata_path.resolve())\n",
    "# We only want those customers in the control group\n",
    "metadata_df = metadata_df[metadata_df[\"CONTROL_GROUP_FLAG\"] == \"Y\"]\n",
    "customers_with_solar = metadata_df[metadata_df[\"GROSS_SOLAR_CNT\"] > 0]\n",
    "print(\n",
    "    f\"Number of customers in control group: {len(metadata_df['CUSTOMER_KEY'].unique())}\"\n",
    ")\n",
    "print(\n",
    "    f\"Number of customers in control group with solar: {len(customers_with_solar['CUSTOMER_KEY'].unique())}\"\n",
    ")"
   ]
  },
  {
   "cell_type": "markdown",
   "id": "db94569d",
   "metadata": {},
   "source": [
    "## Looks like there's not too many customers with solar in the control group"
   ]
  },
  {
   "cell_type": "code",
   "execution_count": 4,
   "id": "f8b8149d",
   "metadata": {},
   "outputs": [
    {
     "name": "stdout",
     "output_type": "stream",
     "text": [
      "Number of customers in control group: 2068\n"
     ]
    }
   ],
   "source": [
    "control_customer_ids = metadata_df[metadata_df[\"GROSS_SOLAR_CNT\"] == 0][\"CUSTOMER_KEY\"]\n",
    "print(f\"Number of customers in control group: {len(control_customer_ids.unique())}\")"
   ]
  },
  {
   "cell_type": "markdown",
   "id": "fa02499c",
   "metadata": {},
   "source": [
    "## Filter the full dataset, retaining only those customers in the control group without solar"
   ]
  },
  {
   "cell_type": "code",
   "execution_count": null,
   "id": "4598d0e5",
   "metadata": {},
   "outputs": [],
   "source": [
    "# Check if the processed data already exists\n",
    "control_out_path = (out_path / \"control_group.csv\").resolve()\n",
    "if not control_out_path.exists():\n",
    "        print(\"Couldn't find processed control group data, creating\")\n",
    "        control_df = pd.DataFrame()\n",
    "        # Read dataset in chunks as it's too large for memory\n",
    "        chunks = pd.read_csv(data_path.resolve(), parse_dates=[\"READING_DATETIME\"], chunksize=100000)\n",
    "        # Append rows of original dataset associated with customers in the control group to the control df\n",
    "        # This will take a while, you may want to tune the chunksize for your RAM size. \n",
    "        # Or load it all into memory if you have enough (you'll need more than 60GB though)\n",
    "        for chunk_df in chunks:\n",
    "            control_rows = chunk_df[chunk_df[\"CUSTOMER_ID\"].isin(control_customer_ids)]\n",
    "            control_df = control_df.append(control_rows)\n",
    "        control_df.to_csv(control_out_path)\n",
    "else:\n",
    "    print(\"Found processed control group data, reading from disk\")\n",
    "    control_df = pd.read_csv(control_out_path)"
   ]
  },
  {
   "cell_type": "markdown",
   "id": "6c644229",
   "metadata": {},
   "source": [
    "## Process the filtered data into a single profile"
   ]
  },
  {
   "cell_type": "code",
   "execution_count": null,
   "id": "7d4a203f",
   "metadata": {},
   "outputs": [],
   "source": [
    "control_df = control_df if not control_df.empty else pd.read_csv((out_path / \"control_group.csv\").resolve())\n"
   ]
  },
  {
   "cell_type": "markdown",
   "id": "bf383710",
   "metadata": {},
   "source": [
    "## Final data processing\n",
    "Now that we've finished processing the data we will take a brief look at it and create an average profile.  "
   ]
  },
  {
   "cell_type": "code",
   "execution_count": null,
   "id": "41ae8e67",
   "metadata": {},
   "outputs": [],
   "source": [
    "in_path = out_path / \"aggregated.csv\"\n",
    "df = pd.read_csv(in_path.resolve())"
   ]
  },
  {
   "cell_type": "code",
   "execution_count": null,
   "id": "5721e880",
   "metadata": {},
   "outputs": [],
   "source": [
    "# Let's take a look at the number of unique customers\n",
    "unique_sites = df[\"CUSTOMER_ID\"].unique()\n",
    "print(f\"Unique sites: {len(unique_sites)}\")\n",
    "seed(42)"
   ]
  },
  {
   "cell_type": "code",
   "execution_count": null,
   "id": "512fd0c4",
   "metadata": {},
   "outputs": [],
   "source": [
    "net_gen_pos = df[\"net_generation_kwh\"] > 0\n",
    "gross_gen_pos = df[\"gross_generation_kwh\"] > 0\n",
    "# df[df[\"net_generation_kwh\"] > df[\"gross_generation_kwh\"]]\n",
    "df[df[\"net_generation_kwh\"] < 0]"
   ]
  },
  {
   "cell_type": "code",
   "execution_count": null,
   "id": "11933307",
   "metadata": {},
   "outputs": [],
   "source": [
    "column_mapper = {col: col.strip(\" \").lower() for col in list(df.columns)}\n",
    "df = df.rename(columns=column_mapper)"
   ]
  },
  {
   "cell_type": "code",
   "execution_count": null,
   "id": "56629e6d",
   "metadata": {},
   "outputs": [],
   "source": [
    "random_site_customer_id = unique_sites[randrange(0, len(unique_sites))]\n",
    "random_site = df[df[\"customer_id\"] == random_site_customer_id]\n",
    "random_site.plot(x=\"time\", y=\"gross_generation_kwh\")"
   ]
  }
 ],
 "metadata": {
  "kernelspec": {
   "display_name": "Python 3 (ipykernel)",
   "language": "python",
   "name": "python3"
  },
  "language_info": {
   "codemirror_mode": {
    "name": "ipython",
    "version": 3
   },
   "file_extension": ".py",
   "mimetype": "text/x-python",
   "name": "python",
   "nbconvert_exporter": "python",
   "pygments_lexer": "ipython3",
   "version": "3.9.5"
  }
 },
 "nbformat": 4,
 "nbformat_minor": 5
}
