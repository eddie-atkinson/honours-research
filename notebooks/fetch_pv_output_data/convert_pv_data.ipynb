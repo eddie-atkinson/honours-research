{
 "cells": [
  {
   "cell_type": "code",
   "execution_count": 1,
   "id": "9596840c",
   "metadata": {},
   "outputs": [],
   "source": [
    "%load_ext autoreload\n",
    "%autoreload 2"
   ]
  },
  {
   "cell_type": "code",
   "execution_count": 2,
   "id": "94c8e7e3",
   "metadata": {},
   "outputs": [],
   "source": [
    "import requests\n",
    "from datetime import datetime\n",
    "import os\n",
    "from urllib.parse import urlencode\n",
    "import pandas as pd\n",
    "import numpy as np\n",
    "import seaborn as sns\n",
    "from datetime import datetime\n",
    "from pathlib import Path\n",
    "import matplotlib.pyplot as plt"
   ]
  },
  {
   "cell_type": "code",
   "execution_count": 3,
   "id": "83d5b3c1",
   "metadata": {},
   "outputs": [],
   "source": [
    "def format_date(date):\n",
    "    return datetime.strftime(date, \"%Y%m%d\")\n",
    "\n",
    "def read_raw_file(date):\n",
    "    formatted_date = format_date(date)\n",
    "    file_path = Path(f\"./out/raw_data/{formatted_date}.csv\").resolve()\n",
    "    df = pd.read_csv(file_path)\n",
    "    return df\n",
    "\n",
    "def create_pp_profile(start_date, end_date, n_gens, column=\"normalised_output_kw/kw\"):\n",
    "    combined_df = pd.DataFrame({})\n",
    "    for date in pd.date_range(start_date, end_date):\n",
    "        raw_df = read_raw_file(date)\n",
    "        combined_df = combined_df.append(raw_df)\n",
    "    \n",
    "    combined_df[\"datetime\"] = pd.to_datetime(combined_df[\"datetime\"])\n",
    "    combined_df = combined_df.sort_values(\"datetime\").reset_index(drop=True)\n",
    "    combined_df = combined_df.filter(items=[column], axis=1)\n",
    "    for i in range(n_gens):\n",
    "        combined_df[str(i)] = combined_df[column]\n",
    "    combined_df = combined_df.drop(columns=[column])\n",
    "    out_path = Path(\"./out/processed_data/out.csv\").resolve()\n",
    "    combined_df.to_csv(out_path, index=False) "
   ]
  },
  {
   "cell_type": "code",
   "execution_count": 4,
   "id": "414bfb31",
   "metadata": {},
   "outputs": [],
   "source": [
    "start_date = \"2020-04-01\"\n",
    "end_date = \"2020-04-02\"\n",
    "create_pp_profile(start_date, end_date, 9)"
   ]
  }
 ],
 "metadata": {
  "kernelspec": {
   "display_name": "Python 3 (ipykernel)",
   "language": "python",
   "name": "python3"
  },
  "language_info": {
   "codemirror_mode": {
    "name": "ipython",
    "version": 3
   },
   "file_extension": ".py",
   "mimetype": "text/x-python",
   "name": "python",
   "nbconvert_exporter": "python",
   "pygments_lexer": "ipython3",
   "version": "3.9.7"
  }
 },
 "nbformat": 4,
 "nbformat_minor": 5
}
