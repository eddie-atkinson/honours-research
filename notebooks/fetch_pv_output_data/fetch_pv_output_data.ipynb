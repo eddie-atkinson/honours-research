{
 "cells": [
  {
   "cell_type": "code",
   "execution_count": 2,
   "id": "c2566677",
   "metadata": {},
   "outputs": [],
   "source": [
    "%load_ext autoreload\n",
    "%autoreload 2"
   ]
  },
  {
   "cell_type": "code",
   "execution_count": 29,
   "id": "df0d5389",
   "metadata": {},
   "outputs": [],
   "source": [
    "import requests\n",
    "from datetime import datetime\n",
    "import os\n",
    "from urllib.parse import urlencode\n",
    "import pandas as pd\n",
    "import numpy as np\n",
    "import seaborn as sns\n",
    "from datetime import datetime\n",
    "from pathlib import Path\n",
    "import matplotlib.pyplot as plt"
   ]
  },
  {
   "cell_type": "markdown",
   "id": "dc3365b4",
   "metadata": {},
   "source": [
    "## Purpose\n",
    "\n",
    "#### The purpose of this notebook is to fetch output data from pvoutput and process it into useable CSVs.\n",
    "\n",
    "The data being fetched is from the solar array used in [this](https://www.researchgate.net/publication/348641326_Two-Stage_VoltVar_Control_in_Active_Distribution_Networks_With_Multi-Agent_Deep_Reinforcement_Learning_Method) paper.\n",
    "\n",
    "The code here is reasonably general and could be used to fetch other arrays if so desired. \n",
    "\n"
   ]
  },
  {
   "cell_type": "code",
   "execution_count": 12,
   "id": "63346299",
   "metadata": {},
   "outputs": [],
   "source": [
    "BASE_URL = \"https://pvoutput.org\"\n",
    "API_KEY = os.environ[\"API_KEY\"]\n",
    "SYSTEM_ID = \"86989\"\n",
    "TARGET_SYSTEM_ID = \"48702\""
   ]
  },
  {
   "cell_type": "code",
   "execution_count": 4,
   "id": "ffd53794",
   "metadata": {},
   "outputs": [],
   "source": [
    "def add_missing_datetimes(df, freq=\"5T\", closed=\"left\"):\n",
    "    start_date = df[\"datetime\"][0].date()\n",
    "    end_date = start_date + pd.Timedelta(\"1D\")\n",
    "    date_range = pd.date_range(start_date, end_date, freq=freq, closed=closed)\n",
    "    date_range = set(date_range)\n",
    "    df_date_range = set(df[\"datetime\"])\n",
    "    missing_datetimes = pd.DataFrame(list(date_range.difference(df_date_range)), columns=[\"datetime\"])\n",
    "    df = df.append(missing_datetimes)\n",
    "    return df"
   ]
  },
  {
   "cell_type": "code",
   "execution_count": 61,
   "id": "84163a75",
   "metadata": {},
   "outputs": [],
   "source": [
    "class PVOutput:\n",
    "    def __init__(self, api_key, system_id):\n",
    "        self.api_key = api_key\n",
    "        self.system_id = system_id\n",
    "\n",
    "    def _process_site_info_data(self, request_response):\n",
    "        data_rows = request_response.split(\";\")\n",
    "        columns = [\n",
    "            \"date\",\n",
    "            \"time\",\n",
    "            \"energy_kwh\",\n",
    "            \"efficiency_kwh/kw\",\n",
    "            \"power_w\",\n",
    "            \"average_power_w\",\n",
    "            \"normalised_output_kw/kw\",\n",
    "            \"temperature_c\",\n",
    "            \"voltage\",\n",
    "        ]\n",
    "        # Drop last two columns, they contain no data\n",
    "        split_rows = [r.split(\",\")[:-2] for r in data_rows]\n",
    "        df = pd.DataFrame(data=split_rows, columns=columns)\n",
    "        df[\"datetime\"] = df[\"date\"] + \" \" + df[\"time\"]\n",
    "        df[\"datetime\"] = pd.to_datetime(df[\"datetime\"], format=\"%Y%m%d %H:%M\")\n",
    "        df = df.drop(columns=[\"date\", \"time\"])\n",
    "        dtypes = {\n",
    "            \"energy_kwh\": \"float\",\n",
    "            \"efficiency_kwh/kw\": \"float\",\n",
    "            \"power_w\": \"float\",\n",
    "            \"average_power_w\": \"float\",\n",
    "            \"normalised_output_kw/kw\": \"float\",\n",
    "            \"temperature_c\": \"float\",\n",
    "            \"voltage\": \"float\"\n",
    "        }\n",
    "        df = df.astype(dtypes)\n",
    "        df = add_missing_datetimes(df)\n",
    "        df = df.sort_values(\"datetime\").reset_index(drop=True)\n",
    "        # Forward fill to fill small holes during the day and data at the end of the day\n",
    "        df = df.fillna(method=\"ffill\")\n",
    "        # Backward fill to fill missing data at the beginning of the day\n",
    "        df = df.fillna(method=\"bfill\")\n",
    "        return df\n",
    "\n",
    "    def get_site_info(self, pv_system_id, date):\n",
    "        \"\"\"Get site production data\n",
    "        pv_system_id: ID of the system to fetch data for\n",
    "        date: the date to fetch data for in YYYYMMDD format, localtime of the PV system\n",
    "        \"\"\"\n",
    "        request_url = f\"{BASE_URL}/service/r2/getstatus.jsp\"\n",
    "        headers = {\n",
    "            \"X-Rate-Limit\": \"1\",\n",
    "            \"X-Pvoutput-Apikey\": self.api_key,\n",
    "            \"X-Pvoutput-SystemId\": self.system_id,\n",
    "        }\n",
    "        params = {\n",
    "            \"d\": date,\n",
    "            \"h\": 1,  # We want historical data.\n",
    "            \"limit\": 288,  # API limit is 288 (num of 5-min periods per day).\n",
    "            \"ext\": 0,  # Extended data; we don't want extended data.\n",
    "            \"sid1\": pv_system_id,\n",
    "        }\n",
    "        r = requests.get(request_url, headers=headers, params=params)\n",
    "        r.raise_for_status()\n",
    "        return self._process_site_info_data(r.text)\n",
    "        "
   ]
  },
  {
   "cell_type": "code",
   "execution_count": 32,
   "id": "0377becd",
   "metadata": {},
   "outputs": [],
   "source": [
    "def plot_data(df, column=\"average_power_w\"):\n",
    "    plt.figure(figsize = (15,8))\n",
    "    ax = sns.lineplot(x=\"datetime\", y=column, data=df)\n",
    "    plt.xticks(rotation=45)"
   ]
  },
  {
   "cell_type": "code",
   "execution_count": 58,
   "id": "cc7abd04",
   "metadata": {},
   "outputs": [],
   "source": [
    "pv = PVOutput(API_KEY, SYSTEM_ID)"
   ]
  },
  {
   "cell_type": "code",
   "execution_count": 60,
   "id": "6ddc4094",
   "metadata": {},
   "outputs": [],
   "source": [
    "out_dir = Path(\"./out/raw_data\")\n",
    "out_dir.mkdir(parents=True, exist_ok=True)\n",
    "start_date = \"2020-04-01\"\n",
    "end_date = \"2020-04-30\"\n",
    "for date in pd.date_range(start_date, end_date):\n",
    "    try:\n",
    "        formatted_date = datetime.strftime(date, \"%Y%m%d\")\n",
    "        pv_data = pv.get_site_info(TARGET_SYSTEM_ID, formatted_date)\n",
    "        pv_data.to_csv(f\"./out/{formatted_date}.csv\", index=False)\n",
    "    except Exception as e:\n",
    "        print(e)\n",
    "        print(formatted_date)\n",
    "        continue\n",
    "    "
   ]
  }
 ],
 "metadata": {
  "kernelspec": {
   "display_name": "Python 3 (ipykernel)",
   "language": "python",
   "name": "python3"
  },
  "language_info": {
   "codemirror_mode": {
    "name": "ipython",
    "version": 3
   },
   "file_extension": ".py",
   "mimetype": "text/x-python",
   "name": "python",
   "nbconvert_exporter": "python",
   "pygments_lexer": "ipython3",
   "version": "3.9.7"
  }
 },
 "nbformat": 4,
 "nbformat_minor": 5
}
